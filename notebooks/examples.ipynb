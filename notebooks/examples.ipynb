{
 "cells": [
  {
   "cell_type": "code",
   "execution_count": 5,
   "metadata": {},
   "outputs": [
    {
     "name": "stdout",
     "output_type": "stream",
     "text": [
      "[(16, 0), (16, 0)] (32, 0)\n",
      "CDP-DG(16:0/16:0) CDP-DG(32:0)\n",
      "[(18, 0), (18, 2)] (36, 2)\n",
      "PE(18:0/18:2) PE(36:2)\n",
      "[(0, 0)] (0, 0)\n",
      "DG(11D3/11D3/0:0) DG(11D3/11D3)\n"
     ]
    }
   ],
   "source": [
    "from metexpy.metexpy import *\n",
    "\n",
    "names = [\"CDP-DG(16:0/16:0)\", \"PE(18:0/18:2)\", \"DG(11D3/11D3/0:0)\"]\n",
    "for name in names:\n",
    "    \n",
    "    facs = extract_fatty_acid_chains(name)\n",
    "    sfac = sum_fatty_acid_chains(facs)\n",
    "    print(facs, sfac)\n",
    "    \n",
    "    new_name = simplify(name)\n",
    "    print(name, new_name)\n",
    "    \n",
    "    "
   ]
  },
  {
   "cell_type": "code",
   "execution_count": null,
   "metadata": {},
   "outputs": [],
   "source": []
  }
 ],
 "metadata": {
  "kernelspec": {
   "display_name": "Python 3",
   "language": "python",
   "name": "python3"
  },
  "language_info": {
   "codemirror_mode": {
    "name": "ipython",
    "version": 3
   },
   "file_extension": ".py",
   "mimetype": "text/x-python",
   "name": "python",
   "nbconvert_exporter": "python",
   "pygments_lexer": "ipython3",
   "version": "3.7.3"
  },
  "pycharm": {
   "stem_cell": {
    "cell_type": "raw",
    "metadata": {
     "collapsed": false
    },
    "source": []
   }
  }
 },
 "nbformat": 4,
 "nbformat_minor": 1
}
