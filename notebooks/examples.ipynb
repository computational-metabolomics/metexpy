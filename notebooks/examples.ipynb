{
 "cells": [
  {
   "cell_type": "code",
   "execution_count": null,
   "metadata": {
    "collapsed": true
   },
   "outputs": [],
   "source": [
    "from metexpy.metexpy import *\n",
    "\n",
    "names = [\"CDP-DG(16:0/16:0)\", \"PE(18:0/18:2)\", \"DG(11D3/11D3/0:0)\"]\n",
    "for name in names:\n",
    "    \n",
    "    fac = extract_fatty_acid_chains(name)\n",
    "    print(fac)\n",
    "    \n",
    "    sfac = sum_fatty_acid_chains(facs)\n",
    "    print(sfac)\n",
    "    \n",
    "    new_name = name_simplify(name)\n",
    "    print(new_name)\n",
    "    "
   ]
  }
 ],
 "metadata": {
  "language_info": {
   "codemirror_mode": {
    "name": "ipython",
    "version": 2
   },
   "file_extension": ".py",
   "mimetype": "text/x-python",
   "name": "python",
   "nbconvert_exporter": "python",
   "pygments_lexer": "ipython2",
   "version": "2.7.6"
  },
  "kernelspec": {
   "name": "pycharm-11aead53",
   "language": "python",
   "display_name": "PyCharm (metexpy)"
  },
  "pycharm": {
   "stem_cell": {
    "cell_type": "raw",
    "source": [],
    "metadata": {
     "collapsed": false
    }
   }
  }
 },
 "nbformat": 4,
 "nbformat_minor": 0
}